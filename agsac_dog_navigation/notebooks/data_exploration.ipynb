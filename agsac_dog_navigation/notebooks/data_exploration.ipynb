{
  "cells": [
    {
      "cell_type": "markdown",
      "metadata": {},
      "source": [
        "# AGSAC数据探索\n",
        "\n",
        "本notebook用于探索和分析AGSAC项目的数据，包括：\n",
        "- 轨迹数据统计\n",
        "- 数据可视化\n",
        "- 数据质量检查\n",
        "- 特征分析\n"
      ]
    },
    {
      "cell_type": "code",
      "execution_count": null,
      "metadata": {},
      "outputs": [],
      "source": [
        "import sys\n",
        "import os\n",
        "sys.path.append('..')\n",
        "\n",
        "import numpy as np\n",
        "import pandas as pd\n",
        "import matplotlib.pyplot as plt\n",
        "import seaborn as sns\n",
        "import torch\n",
        "from pathlib import Path\n",
        "\n",
        "# 设置matplotlib中文字体\n",
        "plt.rcParams['font.sans-serif'] = ['SimHei']\n",
        "plt.rcParams['axes.unicode_minus'] = False\n",
        "\n",
        "# 设置随机种子\n",
        "np.random.seed(42)\n",
        "torch.manual_seed(42)\n"
      ]
    }
  ],
  "metadata": {
    "language_info": {
      "name": "python"
    }
  },
  "nbformat": 4,
  "nbformat_minor": 2
}
